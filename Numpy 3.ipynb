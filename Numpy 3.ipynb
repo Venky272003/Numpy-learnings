{
 "cells": [
  {
   "cell_type": "markdown",
   "id": "fe13ecf0",
   "metadata": {},
   "source": [
    "### np.sort"
   ]
  },
  {
   "cell_type": "code",
   "execution_count": 1,
   "id": "a9d5ba33",
   "metadata": {},
   "outputs": [
    {
     "name": "stdout",
     "output_type": "stream",
     "text": [
      "[96 10 12 73 22 10 10  8 95 43  6 13 84 58  2]\n",
      "\n",
      "[ 2  6  8 10 10 10 12 13 22 43 58 73 84 95 96]\n",
      "\n",
      "[96 95 84 73 58 43 22 13 12 10 10 10  8  6  2]\n",
      "\n",
      "[[73  6  1 70 13 12]\n",
      " [23 24  8 66 17 81]\n",
      " [72 93 75 56 11  1]\n",
      " [70 30 88  2 80 51]]\n",
      "\n",
      "[[ 1  6 12 13 70 73]\n",
      " [ 8 17 23 24 66 81]\n",
      " [ 1 11 56 72 75 93]\n",
      " [ 2 30 51 70 80 88]]\n",
      "\n",
      "[[23  6  1  2 11  1]\n",
      " [70 24  8 56 13 12]\n",
      " [72 30 75 66 17 51]\n",
      " [73 93 88 70 80 81]]\n"
     ]
    }
   ],
   "source": [
    "import numpy as np\n",
    "a = np.random.randint(1,100,15)\n",
    "print(a)\n",
    "print()\n",
    "x = np.sort(a)\n",
    "print(x)\n",
    "print()\n",
    "xd = np.sort(a)[::-1]      # descending order\n",
    "print(xd)\n",
    "print()\n",
    "\n",
    "b = np.random.randint(1,100,24).reshape(4,6)\n",
    "print(b)\n",
    "print()\n",
    "y = np.sort(b)   # sorting wil be done row wise\n",
    "print(y)\n",
    "print()\n",
    "z = np.sort(b,axis = 0)     # sorting will be done column wise\n",
    "print(z)\n"
   ]
  },
  {
   "cell_type": "markdown",
   "id": "8c697730",
   "metadata": {},
   "source": [
    "### np.append\n",
    "The numpy.append() appends values along the mentioned axis at the end of the array"
   ]
  },
  {
   "cell_type": "code",
   "execution_count": 14,
   "id": "0b0945c2",
   "metadata": {},
   "outputs": [
    {
     "name": "stdout",
     "output_type": "stream",
     "text": [
      "[23 60 85 44 44 77 55 47 45 73]\n",
      "[ 23  60  85  44  44  77  55  47  45  73 200]\n",
      "\n",
      "[[20 74 69 99]\n",
      " [56 66 87 41]\n",
      " [21 49 82 99]\n",
      " [11 90 14  1]\n",
      " [16 11 62 90]]\n",
      "\n",
      "[[20. 74. 69. 99.  1.]\n",
      " [56. 66. 87. 41.  1.]\n",
      " [21. 49. 82. 99.  1.]\n",
      " [11. 90. 14.  1.  1.]\n",
      " [16. 11. 62. 90.  1.]]\n"
     ]
    }
   ],
   "source": [
    "a = np.random.randint(1,100,10)\n",
    "b = np.random.randint(1,100,20).reshape(5,4)\n",
    "print(a)\n",
    "a1 = np.append(a,200)\n",
    "print(a1)\n",
    "print()\n",
    "print(b)\n",
    "print()\n",
    "b1 = np.append(b,np.ones((b.shape[0],1)),axis=1)\n",
    "print(b1)\n"
   ]
  },
  {
   "cell_type": "markdown",
   "id": "2904e061",
   "metadata": {},
   "source": [
    "### np.concatenate\n",
    "numpy.concatenate() function concatenate a sequence of arrays along an existing axis."
   ]
  },
  {
   "cell_type": "code",
   "execution_count": 16,
   "id": "8ac9bbf7",
   "metadata": {},
   "outputs": [
    {
     "name": "stdout",
     "output_type": "stream",
     "text": [
      "[[0 1 2]\n",
      " [3 4 5]]\n",
      "\n",
      "[[ 6  7  8]\n",
      " [ 9 10 11]]\n",
      "\n",
      "[[ 0  1  2]\n",
      " [ 3  4  5]\n",
      " [ 6  7  8]\n",
      " [ 9 10 11]]\n",
      "\n",
      "[[ 0  1  2  6  7  8]\n",
      " [ 3  4  5  9 10 11]]\n"
     ]
    }
   ],
   "source": [
    "c = np.arange(6).reshape(2,3)\n",
    "d = np.arange(6,12).reshape(2,3)\n",
    "e = np.concatenate((c,d),axis=0)  # row wise\n",
    "f = np.concatenate((c,d),axis=1)  # column wise\n",
    "print(c)\n",
    "print()\n",
    "print(d)\n",
    "print()\n",
    "print(e)\n",
    "print()\n",
    "print(f)"
   ]
  },
  {
   "cell_type": "markdown",
   "id": "b1f66def",
   "metadata": {},
   "source": [
    "### np.unique\n",
    "With the help of np.unique() method, we get the unique values from an array given as parameter in np.unique() method"
   ]
  },
  {
   "cell_type": "code",
   "execution_count": 17,
   "id": "a240bf6a",
   "metadata": {},
   "outputs": [
    {
     "name": "stdout",
     "output_type": "stream",
     "text": [
      "[1 1 2 2 3 3 4 4 5 5 6 6]\n",
      "\n",
      "[[1 2 3 1]\n",
      " [1 2 3 2]]\n",
      "\n",
      "[1 2 3 4 5 6]\n",
      "\n",
      "[1 2 3]\n"
     ]
    }
   ],
   "source": [
    "e = np.array([1,1,2,2,3,3,4,4,5,5,6,6])\n",
    "f = np.array([[1,2,3,1],[1,2,3,2]])\n",
    "print(e)\n",
    "print()\n",
    "print(f)\n",
    "print()\n",
    "eu = np.unique(e)\n",
    "fu = np.unique(f)\n",
    "print(eu)\n",
    "print()\n",
    "print(fu)"
   ]
  },
  {
   "cell_type": "markdown",
   "id": "b64d2688",
   "metadata": {},
   "source": [
    "### np.expand_dims\n",
    "With the help of this, we can get the expanded dimensions of the array"
   ]
  },
  {
   "cell_type": "code",
   "execution_count": 18,
   "id": "d3252e58",
   "metadata": {},
   "outputs": [
    {
     "name": "stdout",
     "output_type": "stream",
     "text": [
      "[94 14 99 78  2 12 90 58 79 96]\n",
      "(10,)\n",
      "\n",
      "[[94 14 99 78  2 12 90 58 79 96]]\n",
      "(1, 10)\n",
      "\n",
      "[[94]\n",
      " [14]\n",
      " [99]\n",
      " [78]\n",
      " [ 2]\n",
      " [12]\n",
      " [90]\n",
      " [58]\n",
      " [79]\n",
      " [96]]\n",
      "(10, 1)\n"
     ]
    }
   ],
   "source": [
    "a = np.random.randint(1,100,10)\n",
    "print(a)\n",
    "print(a.shape)\n",
    "print()\n",
    "print(np.expand_dims(a,axis=0))\n",
    "print(np.expand_dims(a,axis=0).shape)\n",
    "print()\n",
    "print(np.expand_dims(a,axis=1))\n",
    "print(np.expand_dims(a,axis=1).shape)"
   ]
  },
  {
   "cell_type": "markdown",
   "id": "54a83cb5",
   "metadata": {},
   "source": [
    "### np.where\n",
    "The numpy.where() function returns the indices of elements in an input array where the given condition is satisfied."
   ]
  },
  {
   "cell_type": "code",
   "execution_count": 22,
   "id": "5f6d8f0b",
   "metadata": {},
   "outputs": [
    {
     "name": "stdout",
     "output_type": "stream",
     "text": [
      "[ 3 24 54 37 94 58 76 97 93 99]\n",
      "(array([2, 4, 5, 6, 7, 8, 9], dtype=int64),)\n"
     ]
    }
   ],
   "source": [
    "a = np.random.randint(1,100,10)\n",
    "print(a)\n",
    "print(np.where(a>50))"
   ]
  },
  {
   "cell_type": "code",
   "execution_count": 23,
   "id": "acef060d",
   "metadata": {},
   "outputs": [
    {
     "name": "stdout",
     "output_type": "stream",
     "text": [
      "[ 3 24  0 37  0  0  0  0  0  0]\n"
     ]
    }
   ],
   "source": [
    "# replace all values >50 with 0       syntax--> np.where(condition,true,false)\n",
    "print(np.where(a>50,0,a))\n"
   ]
  },
  {
   "cell_type": "code",
   "execution_count": 24,
   "id": "f86f1255",
   "metadata": {},
   "outputs": [
    {
     "name": "stdout",
     "output_type": "stream",
     "text": [
      "[ 3  0  0 37  0  0  0 97 93 99]\n"
     ]
    }
   ],
   "source": [
    "# replace even elements with 0\n",
    "print(np.where(a%2==0,0,a))"
   ]
  },
  {
   "cell_type": "markdown",
   "id": "b5e99728",
   "metadata": {},
   "source": [
    "### np.argmax / np.argmin\n",
    "- The numpy.argmax() function returns indices of the max element of the array in a particular axis.\n",
    "- The numpy.argmin() function returns indices of the min element of the array in a particular axis."
   ]
  },
  {
   "cell_type": "code",
   "execution_count": 27,
   "id": "65962ac2",
   "metadata": {},
   "outputs": [
    {
     "name": "stdout",
     "output_type": "stream",
     "text": [
      "[97 51 42  9 15 20 36 93 81 26]\n",
      "\n",
      "0\n",
      "\n",
      "[[79 82 78 86]\n",
      " [90 11 92  9]\n",
      " [49 69 49 72]\n",
      " [60 19 69 32]\n",
      " [57 22 82 72]]\n",
      "\n",
      "[1 0 1 0]\n",
      "\n",
      "[3 2 3 2 2]\n"
     ]
    }
   ],
   "source": [
    "# np.argmax\n",
    "a = np.random.randint(1,100,10)\n",
    "b = np.random.randint(1,100,20).reshape(5,4)\n",
    "print(a)\n",
    "print()\n",
    "print(np.argmax(a))\n",
    "print()\n",
    "print(b)\n",
    "print()\n",
    "print(np.argmax(b,axis = 0))\n",
    "print()\n",
    "print(np.argmax(b,axis = 1))"
   ]
  },
  {
   "cell_type": "code",
   "execution_count": 26,
   "id": "f2644183",
   "metadata": {},
   "outputs": [
    {
     "name": "stdout",
     "output_type": "stream",
     "text": [
      "[ 6 29 74 10 30  7 61 21 66 71]\n",
      "\n",
      "0\n",
      "\n",
      "[[68 64 96  2]\n",
      " [16 39 78 91]\n",
      " [97 42 24 33]\n",
      " [13 37 76 21]\n",
      " [91 91 91 64]]\n",
      "\n",
      "[3 3 2 0]\n",
      "\n",
      "[3 0 2 0 3]\n"
     ]
    }
   ],
   "source": [
    "# np.argmin()\n",
    "a = np.random.randint(1,100,10)\n",
    "b = np.random.randint(1,100,20).reshape(5,4)\n",
    "print(a)\n",
    "print()\n",
    "print(np.argmin(a))\n",
    "print()\n",
    "print(b)\n",
    "print()\n",
    "print(np.argmin(b,axis = 0))\n",
    "print()\n",
    "print(np.argmin(b,axis = 1))"
   ]
  },
  {
   "cell_type": "markdown",
   "id": "224f1667",
   "metadata": {},
   "source": [
    "### np.cumsum\n",
    "This function is used when we want to compute the cumulative sum of the array elements over a given axis."
   ]
  },
  {
   "cell_type": "code",
   "execution_count": 31,
   "id": "9165df45",
   "metadata": {},
   "outputs": [
    {
     "name": "stdout",
     "output_type": "stream",
     "text": [
      "[0 1 2 3 4 5 6 7 8 9]\n",
      "\n",
      "[ 0  1  3  6 10 15 21 28 36 45]\n",
      "\n",
      "[[ 0  1  2  3  4]\n",
      " [ 5  6  7  8  9]\n",
      " [10 11 12 13 14]\n",
      " [15 16 17 18 19]]\n",
      "\n",
      "[[ 0  1  3  6 10]\n",
      " [ 5 11 18 26 35]\n",
      " [10 21 33 46 60]\n",
      " [15 31 48 66 85]]\n",
      "\n",
      "[[ 0  1  2  3  4]\n",
      " [ 5  7  9 11 13]\n",
      " [15 18 21 24 27]\n",
      " [30 34 38 42 46]]\n"
     ]
    }
   ],
   "source": [
    "x = np.arange(10)\n",
    "y = np.arange(20).reshape(4,5)\n",
    "print(x)\n",
    "print()\n",
    "print(np.cumsum(x))\n",
    "print()\n",
    "\n",
    "print(y)\n",
    "print()\n",
    "print(np.cumsum(y, axis = 1))   # row wise\n",
    "print()\n",
    "print(np.cumsum(y, axis = 0))   # column wise"
   ]
  },
  {
   "cell_type": "markdown",
   "id": "b4c4bcd7",
   "metadata": {},
   "source": [
    "### np.cumprod"
   ]
  },
  {
   "cell_type": "code",
   "execution_count": 33,
   "id": "3f656b49",
   "metadata": {},
   "outputs": [
    {
     "name": "stdout",
     "output_type": "stream",
     "text": [
      "[ 1  2  3  4  5  6  7  8  9 10]\n",
      "\n",
      "[      1       2       6      24     120     720    5040   40320  362880\n",
      " 3628800]\n",
      "\n",
      "[[ 1  2  3  4  5]\n",
      " [ 6  7  8  9 10]\n",
      " [11 12 13 14 15]\n",
      " [16 17 18 19 20]]\n",
      "\n",
      "[[      1       2       6      24     120]\n",
      " [      6      42     336    3024   30240]\n",
      " [     11     132    1716   24024  360360]\n",
      " [     16     272    4896   93024 1860480]]\n",
      "\n",
      "[[    1     2     3     4     5]\n",
      " [    6    14    24    36    50]\n",
      " [   66   168   312   504   750]\n",
      " [ 1056  2856  5616  9576 15000]]\n"
     ]
    }
   ],
   "source": [
    "x = np.arange(1,11)\n",
    "y = np.arange(1,21).reshape(4,5)\n",
    "print(x)\n",
    "print()\n",
    "print(np.cumprod(x))\n",
    "print()\n",
    "\n",
    "print(y)\n",
    "print()\n",
    "print(np.cumprod(y, axis = 1))   # row wise\n",
    "print()\n",
    "print(np.cumprod(y, axis = 0))   # column wise"
   ]
  },
  {
   "cell_type": "markdown",
   "id": "b7abb247",
   "metadata": {},
   "source": [
    "### np.percentile\n",
    "This function is used to compute the n th percentile of the given data (array elements) along the specified axis."
   ]
  },
  {
   "cell_type": "code",
   "execution_count": 34,
   "id": "32f346cf",
   "metadata": {},
   "outputs": [
    {
     "name": "stdout",
     "output_type": "stream",
     "text": [
      "[38  9  8 41 58 19 16 66  7 33]\n",
      "\n",
      "7.0\n",
      "\n",
      "66.0\n",
      "\n",
      "26.0\n",
      "\n",
      "10.75\n",
      "\n",
      "40.25\n"
     ]
    }
   ],
   "source": [
    "a = np.random.randint(1,100,10)\n",
    "print(a)\n",
    "print()\n",
    "print(np.percentile(a,0))\n",
    "print()\n",
    "print(np.percentile(a,100))\n",
    "print()\n",
    "print(np.percentile(a,50))\n",
    "print()\n",
    "print(np.percentile(a,25))\n",
    "print()\n",
    "print(np.percentile(a,75))"
   ]
  },
  {
   "cell_type": "markdown",
   "id": "715c0c52",
   "metadata": {},
   "source": [
    "### np.histogram\n",
    "Numpy has a built in numpy.histogram() function which represents the frequency of data distribution in the graphical form."
   ]
  },
  {
   "cell_type": "code",
   "execution_count": 38,
   "id": "07a25ca1",
   "metadata": {},
   "outputs": [
    {
     "name": "stdout",
     "output_type": "stream",
     "text": [
      "[57 75 77 95 72 76  6 39 23 52 90 30 33 21 84 45 84 27 98 32]\n",
      "\n",
      "(array([1, 0, 3, 4, 1, 2, 0, 4, 2, 3], dtype=int64), array([  0,  10,  20,  30,  40,  50,  60,  70,  80,  90, 100]))\n",
      "\n",
      "(array([ 9, 11], dtype=int64), array([  0,  50, 100]))\n"
     ]
    }
   ],
   "source": [
    "x = np.random.randint(1,100,20)\n",
    "print(x)\n",
    "print()\n",
    "print(np.histogram(x,bins=[0,10,20,30,40,50,60,70,80,90,100]))\n",
    "print()\n",
    "print(np.histogram(x,bins=[0,50,100]))"
   ]
  },
  {
   "cell_type": "markdown",
   "id": "18baee2c",
   "metadata": {},
   "source": [
    "### np.corrcoef\n",
    "Returns Pearson product moment correlation coefficients. \n",
    "- It's value range from -1 to 1.\n",
    "- 1 means strongly co-related.\n",
    "- -1 means negatively co-related, which means if one values increases then the other value decreases."
   ]
  },
  {
   "cell_type": "code",
   "execution_count": null,
   "id": "f547ed20",
   "metadata": {},
   "outputs": [],
   "source": [
    "salary = np.array([20000,40000,25000,35000,60000])\n",
    "experience = np.array([1,3,2,4,2])\n",
    "\n",
    "np.corrcoef(salary,experience)\n",
    "\n",
    "# Output format\n",
    "#              salary      experience\n",
    "# salary         1           0.23445\n",
    "# experience    0.39874       1\n"
   ]
  },
  {
   "cell_type": "markdown",
   "id": "3bddf150",
   "metadata": {},
   "source": [
    "###  np.isin\n",
    "With the help of numpy.isin() method , we can see that one array having values are checked in a different numpy array having different elements with different sizes."
   ]
  },
  {
   "cell_type": "code",
   "execution_count": 44,
   "id": "9b85cf6f",
   "metadata": {},
   "outputs": [
    {
     "name": "stdout",
     "output_type": "stream",
     "text": [
      "[72 50 68 83 85 80 96 24 77 60]\n",
      "[False  True False False False False False False False False]\n",
      "[50]\n"
     ]
    }
   ],
   "source": [
    "a = np.random.randint(1,100,10)\n",
    "items = [10,20,30,40,50]\n",
    "print(a)\n",
    "print(np.isin(a,items))\n",
    "print(a[np.isin(a,items)])\n",
    "\n"
   ]
  },
  {
   "cell_type": "markdown",
   "id": "38d2ceef",
   "metadata": {},
   "source": [
    "### np.flip\n",
    "The numpy.flip() function reverses the order of array elements along the specified axis, preserving the shape of the array."
   ]
  },
  {
   "cell_type": "code",
   "execution_count": 45,
   "id": "5db3f70a",
   "metadata": {},
   "outputs": [
    {
     "name": "stdout",
     "output_type": "stream",
     "text": [
      "[72 50 68 83 85 80 96 24 77 60]\n",
      "[60 77 24 96 80 85 83 68 50 72]\n"
     ]
    }
   ],
   "source": [
    "print(a)\n",
    "print(np.flip(a))"
   ]
  },
  {
   "cell_type": "code",
   "execution_count": 48,
   "id": "2c6efc2c",
   "metadata": {},
   "outputs": [
    {
     "name": "stdout",
     "output_type": "stream",
     "text": [
      "[[ 0  1  2  3  4]\n",
      " [ 5  6  7  8  9]\n",
      " [10 11 12 13 14]\n",
      " [15 16 17 18 19]]\n",
      "\n",
      "[[19 18 17 16 15]\n",
      " [14 13 12 11 10]\n",
      " [ 9  8  7  6  5]\n",
      " [ 4  3  2  1  0]]\n",
      "\n",
      "[[15 16 17 18 19]\n",
      " [10 11 12 13 14]\n",
      " [ 5  6  7  8  9]\n",
      " [ 0  1  2  3  4]]\n",
      "\n",
      "[[ 4  3  2  1  0]\n",
      " [ 9  8  7  6  5]\n",
      " [14 13 12 11 10]\n",
      " [19 18 17 16 15]]\n"
     ]
    }
   ],
   "source": [
    "b = np.arange(20).reshape(4,5)\n",
    "print(b)\n",
    "print()\n",
    "print(np.flip(b))\n",
    "print()\n",
    "print(np.flip(b,axis = 0))\n",
    "print()\n",
    "print(np.flip(b,axis = 1))"
   ]
  },
  {
   "cell_type": "markdown",
   "id": "c48f45e7",
   "metadata": {},
   "source": [
    "### np.put\n",
    "The numpy.put() function returns specific elements of an array with given values of p_array. Array indexed works on flattened array.\n"
   ]
  },
  {
   "cell_type": "code",
   "execution_count": 49,
   "id": "6a6ae167",
   "metadata": {},
   "outputs": [
    {
     "name": "stdout",
     "output_type": "stream",
     "text": [
      "[0 1 2 3 4 5 6 7 8 9]\n",
      "[100 200 300   3   4   5   6   7   8   9]\n"
     ]
    }
   ],
   "source": [
    "a = np.arange(10)\n",
    "print(a)\n",
    "np.put(a,[0,1,2],[100,200,300])\n",
    "print(a)"
   ]
  },
  {
   "cell_type": "markdown",
   "id": "cbca5b64",
   "metadata": {},
   "source": [
    "### np.delete\n",
    "The numpy.delete() function returns a new array with the deletion of sub-arrys along with the mentioned axis."
   ]
  },
  {
   "cell_type": "code",
   "execution_count": 53,
   "id": "bea4bb22",
   "metadata": {},
   "outputs": [
    {
     "name": "stdout",
     "output_type": "stream",
     "text": [
      "[100 200 300   3   4   5   6   7   8   9]\n",
      "[100 200   3   4   6   7   9]\n",
      "[100 200 300   3   4   5   6   7   8   9]\n"
     ]
    }
   ],
   "source": [
    "print(a)\n",
    "a1 = np.delete(a,[2,5,8])\n",
    "print(a1)\n",
    "print(a)\n"
   ]
  },
  {
   "cell_type": "markdown",
   "id": "efe36dd9",
   "metadata": {},
   "source": [
    "### Set Functions\n",
    "- np.union1d\n",
    "- np.intersect1d\n",
    "- np.setdiff1d\n",
    "- np.setxor1d\n",
    "- np.in1d"
   ]
  },
  {
   "cell_type": "code",
   "execution_count": 58,
   "id": "67863740",
   "metadata": {},
   "outputs": [
    {
     "name": "stdout",
     "output_type": "stream",
     "text": [
      "[1 2 3 4 5 6 7]\n",
      "[3 4 5]\n",
      "[1 2]\n",
      "[1 2 6 7]\n",
      "[False False False  True False]\n",
      "[4]\n"
     ]
    }
   ],
   "source": [
    "m = np.array([1,2,3,4,5])\n",
    "n = np.array([3,4,5,6,7])\n",
    "\n",
    "print(np.union1d(m,n))\n",
    "print(np.intersect1d(m,n))\n",
    "print(np.setdiff1d(m,n))\n",
    "print(np.setxor1d(m,n))\n",
    "print(np.in1d(m,4))\n",
    "print(m[np.in1d(m,4)])"
   ]
  },
  {
   "cell_type": "markdown",
   "id": "0dbcdce1",
   "metadata": {},
   "source": [
    "### np.clip\n",
    "numpy.clip() function is used to clip (limit) the values in an array."
   ]
  },
  {
   "cell_type": "code",
   "execution_count": 62,
   "id": "58af4118",
   "metadata": {},
   "outputs": [
    {
     "name": "stdout",
     "output_type": "stream",
     "text": [
      "[746  32 123 113 145 594 713 406 703 324]\n",
      "\n"
     ]
    },
    {
     "data": {
      "text/plain": [
       "array([700, 200, 200, 200, 200, 594, 700, 406, 700, 324])"
      ]
     },
     "execution_count": 62,
     "metadata": {},
     "output_type": "execute_result"
    }
   ],
   "source": [
    "a = np.random.randint(1,1000,10)\n",
    "print(a)\n",
    "print()\n",
    "np.clip(a,a_min = 200,a_max = 700)"
   ]
  },
  {
   "cell_type": "code",
   "execution_count": null,
   "id": "466ae163",
   "metadata": {},
   "outputs": [],
   "source": []
  }
 ],
 "metadata": {
  "kernelspec": {
   "display_name": "Python 3 (ipykernel)",
   "language": "python",
   "name": "python3"
  },
  "language_info": {
   "codemirror_mode": {
    "name": "ipython",
    "version": 3
   },
   "file_extension": ".py",
   "mimetype": "text/x-python",
   "name": "python",
   "nbconvert_exporter": "python",
   "pygments_lexer": "ipython3",
   "version": "3.9.13"
  }
 },
 "nbformat": 4,
 "nbformat_minor": 5
}
