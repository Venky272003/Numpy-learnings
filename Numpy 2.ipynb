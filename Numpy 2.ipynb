{
 "cells": [
  {
   "cell_type": "markdown",
   "id": "548ee930",
   "metadata": {},
   "source": [
    "# Numpy Array vs Python Lists\n",
    "- Numpy array are much more faster then python lists in terms of speed of execution.\n",
    "- Numpy array takes less space than python lists in memory.\n",
    "- Numpy arrays are more convenient to use."
   ]
  },
  {
   "cell_type": "markdown",
   "id": "1b70cc60",
   "metadata": {},
   "source": [
    "# Advanced Indexing"
   ]
  },
  {
   "cell_type": "code",
   "execution_count": 6,
   "id": "7bed0819",
   "metadata": {},
   "outputs": [
    {
     "name": "stdout",
     "output_type": "stream",
     "text": [
      "[[ 0  1  2  3]\n",
      " [ 4  5  6  7]\n",
      " [ 8  9 10 11]\n",
      " [12 13 14 15]\n",
      " [16 17 18 19]\n",
      " [20 21 22 23]]\n",
      "\n",
      "9\n",
      "\n",
      "[[1 2 3]\n",
      " [5 6 7]]\n"
     ]
    }
   ],
   "source": [
    "# Normal indexing and slicing\n",
    "import numpy as np\n",
    "a = np.arange(24).reshape(6,4)\n",
    "print(a)\n",
    "print()\n",
    "print(a[2,1])\n",
    "print()\n",
    "print(a[0:2,1:])"
   ]
  },
  {
   "cell_type": "code",
   "execution_count": 11,
   "id": "d04e1a94",
   "metadata": {},
   "outputs": [
    {
     "name": "stdout",
     "output_type": "stream",
     "text": [
      "[[ 0  1  2  3]\n",
      " [ 4  5  6  7]\n",
      " [ 8  9 10 11]\n",
      " [12 13 14 15]\n",
      " [16 17 18 19]\n",
      " [20 21 22 23]]\n",
      "\n",
      "[[ 0  1  2  3]\n",
      " [ 8  9 10 11]\n",
      " [12 13 14 15]]\n",
      "\n",
      "[[ 0  1  2  3]\n",
      " [ 8  9 10 11]\n",
      " [12 13 14 15]\n",
      " [20 21 22 23]]\n",
      "\n",
      "[[ 0  2  3]\n",
      " [ 4  6  7]\n",
      " [ 8 10 11]\n",
      " [12 14 15]\n",
      " [16 18 19]\n",
      " [20 22 23]]\n"
     ]
    }
   ],
   "source": [
    "# Fancy Indexing\n",
    "print(a)\n",
    "print()\n",
    "print(a[[0,2,3]])   # will give first,third,fourth row\n",
    "print()\n",
    "print(a[[0,2,3,5]])\n",
    "print()\n",
    "print(a[:,[0,2,3]])"
   ]
  },
  {
   "cell_type": "code",
   "execution_count": 14,
   "id": "acdbdcdf",
   "metadata": {},
   "outputs": [
    {
     "name": "stdout",
     "output_type": "stream",
     "text": [
      "[[ 4 21 33 61]\n",
      " [34 98  1 97]\n",
      " [85  2 63 78]\n",
      " [25 62 39  7]\n",
      " [49 26 70 94]\n",
      " [40 63 68 28]]\n"
     ]
    }
   ],
   "source": [
    "# Boolean Indexing\n",
    "x = np.random.randint(1,100,24).reshape(6,4)\n",
    "print(x)"
   ]
  },
  {
   "cell_type": "code",
   "execution_count": 18,
   "id": "4a825b8c",
   "metadata": {},
   "outputs": [
    {
     "name": "stdout",
     "output_type": "stream",
     "text": [
      "[[False False False  True]\n",
      " [False  True False  True]\n",
      " [ True False  True  True]\n",
      " [False  True False False]\n",
      " [False False  True  True]\n",
      " [False  True  True False]]\n",
      "\n",
      "[61 98 97 85 63 78 62 70 94 63 68]\n"
     ]
    }
   ],
   "source": [
    "# find all numbers greater than 50\n",
    "print(x>50)\n",
    "print()\n",
    "print(x[x>50])"
   ]
  },
  {
   "cell_type": "code",
   "execution_count": 20,
   "id": "88e7469e",
   "metadata": {},
   "outputs": [
    {
     "name": "stdout",
     "output_type": "stream",
     "text": [
      "[ 4 34 98  2 78 62 26 70 94 40 68 28]\n"
     ]
    }
   ],
   "source": [
    "# find all numbers which are even\n",
    "print(x[x%2==0])"
   ]
  },
  {
   "cell_type": "code",
   "execution_count": 25,
   "id": "dc42fb23",
   "metadata": {},
   "outputs": [
    {
     "name": "stdout",
     "output_type": "stream",
     "text": [
      "[98 78 62 70 94 68]\n"
     ]
    }
   ],
   "source": [
    "# find all number greater than 50 and are even  --> here we have to use bitwise and (&) and not this \"and\" bcoz we are dealing with boolean values\n",
    "print(x[(x>50) & (x%2 == 0)])"
   ]
  },
  {
   "cell_type": "code",
   "execution_count": 27,
   "id": "73015ea1",
   "metadata": {},
   "outputs": [
    {
     "name": "stdout",
     "output_type": "stream",
     "text": [
      "[ 4 33 61 34  1 97 85  2 78 25 62 39 26 94 40 68]\n"
     ]
    }
   ],
   "source": [
    "# find all numbers not divisible by 7\n",
    "print(x[~(x%7 == 0)])"
   ]
  },
  {
   "cell_type": "markdown",
   "id": "b34373a0",
   "metadata": {},
   "source": [
    "# Broadcasting\n",
    "- When we apply arithmetic operations on 2 dissimilar array of different shape then the operation will be applicable based on broadcasting.\n",
    "- Broadcasting is done automatically by numpy.\n",
    "- If Broadcasting is not applicable on two arrays then the operations will not be applicable and we will get error."
   ]
  },
  {
   "cell_type": "markdown",
   "id": "bce2b754",
   "metadata": {},
   "source": [
    "## Broadcasting Rules\n",
    "\n",
    "### 1. Make the two arrays have the same number of dimensions.\n",
    " - If the numbers of dimensions of the two arrays are different, add new dimensions with size 1 to the head of the array with the smaller dimension.\n",
    "\n",
    "### 2. Make each dimension of the two arrays the same size.\n",
    " - If the sizes of each dimension of the two arrays do not match, dimensions with size 1 are stretched to the size of the other array.\n",
    " - If there is a dimension whose size is not 1 in either of the two arrays, it cannot be broadcasted, and an error is raised."
   ]
  },
  {
   "cell_type": "markdown",
   "id": "5340c704",
   "metadata": {},
   "source": [
    "# Working with mathematical formulae"
   ]
  },
  {
   "cell_type": "code",
   "execution_count": 29,
   "id": "6ea77a72",
   "metadata": {},
   "outputs": [
    {
     "name": "stdout",
     "output_type": "stream",
     "text": [
      "[0.5        0.73105858 0.88079708 0.95257413 0.98201379 0.99330715\n",
      " 0.99752738 0.99908895 0.99966465 0.99987661]\n"
     ]
    }
   ],
   "source": [
    "# sigmoid\n",
    "\n",
    "def sigmoid(array):\n",
    "    return 1/(1+np.exp(-(array)))\n",
    "\n",
    "a = np.arange(10)\n",
    "x = sigmoid(a)\n",
    "print(x)"
   ]
  },
  {
   "cell_type": "code",
   "execution_count": 33,
   "id": "843db387",
   "metadata": {},
   "outputs": [
    {
     "name": "stdout",
     "output_type": "stream",
     "text": [
      "476.44\n"
     ]
    }
   ],
   "source": [
    "# mean squared error\n",
    "\n",
    "actual = np.random.randint(1,50,25)\n",
    "predicted = np.random.randint(1,50,25)\n",
    "\n",
    "def mse(actual,predicted):\n",
    "    return np.mean((actual-predicted)**2)\n",
    "\n",
    "error = mse(actual,predicted)\n",
    "print(error)\n"
   ]
  },
  {
   "cell_type": "markdown",
   "id": "3b30b51b",
   "metadata": {},
   "source": [
    "# Working with missing values"
   ]
  },
  {
   "cell_type": "code",
   "execution_count": 34,
   "id": "4155ce04",
   "metadata": {},
   "outputs": [
    {
     "name": "stdout",
     "output_type": "stream",
     "text": [
      "[ 1.  2.  3.  4. nan  6.]\n"
     ]
    }
   ],
   "source": [
    "# we can create missing values using -> np.nan\n",
    "a = np.array([1,2,3,4,np.nan,6])\n",
    "print(a)"
   ]
  },
  {
   "cell_type": "code",
   "execution_count": 39,
   "id": "2c0086f4",
   "metadata": {},
   "outputs": [
    {
     "name": "stdout",
     "output_type": "stream",
     "text": [
      "[False False False False  True False]\n",
      "[nan]\n",
      "[1. 2. 3. 4. 6.]\n"
     ]
    }
   ],
   "source": [
    "print(np.isnan(a))\n",
    "\n",
    "print(a[np.isnan(a)])\n",
    "\n",
    "print(a[~np.isnan(a)])"
   ]
  },
  {
   "cell_type": "markdown",
   "id": "7a58a48b",
   "metadata": {},
   "source": [
    "# Plotting Graph"
   ]
  },
  {
   "cell_type": "code",
   "execution_count": 40,
   "id": "e3e26bdd",
   "metadata": {},
   "outputs": [
    {
     "data": {
      "text/plain": [
       "[<matplotlib.lines.Line2D at 0x181284aa340>]"
      ]
     },
     "execution_count": 40,
     "metadata": {},
     "output_type": "execute_result"
    },
    {
     "data": {
      "image/png": "[encoded data removed]",
      "text/plain": [
       "<Figure size 640x480 with 1 Axes>"
      ]
     },
     "metadata": {},
     "output_type": "display_data"
    }
   ],
   "source": [
    "# plotting 2D plot\n",
    "# x = y\n",
    "import matplotlib.pyplot as plt\n",
    "\n",
    "x = np.linspace(-10,10,100)\n",
    "y = x\n",
    "\n",
    "plt.plot(x,y)\n"
   ]
  },
  {
   "cell_type": "code",
   "execution_count": 41,
   "id": "8f10442a",
   "metadata": {},
   "outputs": [
    {
     "data": {
      "text/plain": [
       "[<matplotlib.lines.Line2D at 0x18128505cd0>]"
      ]
     },
     "execution_count": 41,
     "metadata": {},
     "output_type": "execute_result"
    },
    {
     "data": {
      "image/png": "[encoded data removed]",
      "text/plain": [
       "<Figure size 640x480 with 1 Axes>"
      ]
     },
     "metadata": {},
     "output_type": "display_data"
    }
   ],
   "source": [
    "# y = x^2\n",
    "x = np.linspace(-10,10,100)\n",
    "y = x**2\n",
    "plt.plot(x,y)"
   ]
  },
  {
   "cell_type": "code",
   "execution_count": 42,
   "id": "196cc221",
   "metadata": {},
   "outputs": [
    {
     "name": "stderr",
     "output_type": "stream",
     "text": [
      "C:\\Users\\Venkatesh\\AppData\\Local\\Temp\\ipykernel_27112\\2564014901.py:3: RuntimeWarning: invalid value encountered in log\n",
      "  y = x * np.log(x)\n"
     ]
    },
    {
     "data": {
      "text/plain": [
       "[<matplotlib.lines.Line2D at 0x18128582370>]"
      ]
     },
     "execution_count": 42,
     "metadata": {},
     "output_type": "execute_result"
    },
    {
     "data": {
      "image/png": "[encoded data removed]",
      "text/plain": [
       "<Figure size 640x480 with 1 Axes>"
      ]
     },
     "metadata": {},
     "output_type": "display_data"
    }
   ],
   "source": [
    "# y = xlog(x)\n",
    "x = np.linspace(-10,10,100)\n",
    "y = x * np.log(x)\n",
    "\n",
    "plt.plot(x,y)"
   ]
  },
  {
   "cell_type": "code",
   "execution_count": 43,
   "id": "cb5491a1",
   "metadata": {},
   "outputs": [
    {
     "data": {
      "text/plain": [
       "[<matplotlib.lines.Line2D at 0x181285d3e50>]"
      ]
     },
     "execution_count": 43,
     "metadata": {},
     "output_type": "execute_result"
    },
    {
     "data": {
      "image/png": "[encoded data removed]",
      "text/plain": [
       "<Figure size 640x480 with 1 Axes>"
      ]
     },
     "metadata": {},
     "output_type": "display_data"
    }
   ],
   "source": [
    "# sigmoid graph\n",
    "x = np.linspace(-10,10,100)\n",
    "y = 1/(1+np.exp(-x))\n",
    "\n",
    "plt.plot(x,y)"
   ]
  },
  {
   "cell_type": "code",
   "execution_count": null,
   "id": "f5750549",
   "metadata": {},
   "outputs": [],
   "source": []
  }
 ],
 "metadata": {
  "kernelspec": {
   "display_name": "Python 3 (ipykernel)",
   "language": "python",
   "name": "python3"
  },
  "language_info": {
   "codemirror_mode": {
    "name": "ipython",
    "version": 3
   },
   "file_extension": ".py",
   "mimetype": "text/x-python",
   "name": "python",
   "nbconvert_exporter": "python",
   "pygments_lexer": "ipython3",
   "version": "3.9.13"
  }
 },
 "nbformat": 4,
 "nbformat_minor": 5
}
