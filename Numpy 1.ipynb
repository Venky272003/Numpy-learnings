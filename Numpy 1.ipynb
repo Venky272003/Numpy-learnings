{
 "cells": [
  {
   "cell_type": "markdown",
   "id": "f2a3f069",
   "metadata": {},
   "source": [
    "# Creating Numpy Arrays"
   ]
  },
  {
   "cell_type": "code",
   "execution_count": 2,
   "id": "99667b7b",
   "metadata": {},
   "outputs": [],
   "source": [
    "import numpy as np"
   ]
  },
  {
   "cell_type": "code",
   "execution_count": 5,
   "id": "0b29b901",
   "metadata": {},
   "outputs": [
    {
     "name": "stdout",
     "output_type": "stream",
     "text": [
      "[1 2 3]\n",
      "<class 'numpy.ndarray'>\n"
     ]
    }
   ],
   "source": [
    "# np.array\n",
    "a = np.array([1,2,3])\n",
    "print(a)\n",
    "print(type(a))"
   ]
  },
  {
   "cell_type": "code",
   "execution_count": 6,
   "id": "dc72a79e",
   "metadata": {},
   "outputs": [
    {
     "name": "stdout",
     "output_type": "stream",
     "text": [
      "[[1 2 3]\n",
      " [4 5 6]]\n"
     ]
    }
   ],
   "source": [
    "# 2D \n",
    "b = np.array([[1,2,3],[4,5,6]])\n",
    "print(b)"
   ]
  },
  {
   "cell_type": "code",
   "execution_count": 8,
   "id": "f3cd03e7",
   "metadata": {},
   "outputs": [
    {
     "name": "stdout",
     "output_type": "stream",
     "text": [
      "[[[1 2]\n",
      "  [3 4]]\n",
      "\n",
      " [[5 6]\n",
      "  [7 8]]]\n"
     ]
    }
   ],
   "source": [
    "# 3D\n",
    "c = np.array([[[1,2],[3,4]],[[5,6],[7,8]]])\n",
    "print(c)"
   ]
  },
  {
   "cell_type": "code",
   "execution_count": 11,
   "id": "93862c14",
   "metadata": {},
   "outputs": [
    {
     "name": "stdout",
     "output_type": "stream",
     "text": [
      "[ 12.   3.   4. 445.   6.]\n",
      "[False  True  True False  True]\n",
      "[1.+0.j 2.+0.j 3.+0.j 4.+0.j]\n"
     ]
    }
   ],
   "source": [
    "# dtype   -> by default the datatype of the array is integer but using dtype we can change it to any other data type like float etc.\n",
    "d = np.array([12,3,4,445,6], dtype = float)\n",
    "print(d)\n",
    "\n",
    "e = np.array([0,3,4,0,6], dtype = bool)\n",
    "print(e)\n",
    "\n",
    "f = np.array([1,2,3,4], dtype = complex)\n",
    "print(f)\n"
   ]
  },
  {
   "cell_type": "code",
   "execution_count": 72,
   "id": "0a41df7f",
   "metadata": {},
   "outputs": [
    {
     "name": "stdout",
     "output_type": "stream",
     "text": [
      "[ 1  2  3  4  5  6  7  8  9 10]\n",
      "[1 3 5 7 9]\n"
     ]
    }
   ],
   "source": [
    "# np.arange\n",
    "a = np.arange(1,11)\n",
    "print(a)\n",
    "\n",
    "b = np.arange(1,11,2)\n",
    "print(b)"
   ]
  },
  {
   "cell_type": "code",
   "execution_count": 29,
   "id": "373bd9f1",
   "metadata": {},
   "outputs": [
    {
     "name": "stdout",
     "output_type": "stream",
     "text": [
      "[[ 1  2  3]\n",
      " [ 4  5  6]\n",
      " [ 7  8  9]\n",
      " [10 11 12]]\n",
      "\n",
      "[[ 1  2  3  4]\n",
      " [ 5  6  7  8]\n",
      " [ 9 10 11 12]]\n",
      "\n",
      "[[ 1  2  3  4  5  6]\n",
      " [ 7  8  9 10 11 12]]\n",
      "\n",
      "[[ 1  2]\n",
      " [ 3  4]\n",
      " [ 5  6]\n",
      " [ 7  8]\n",
      " [ 9 10]\n",
      " [11 12]]\n",
      "\n",
      "[[[[ 1  2]\n",
      "   [ 3  4]]\n",
      "\n",
      "  [[ 5  6]\n",
      "   [ 7  8]]]\n",
      "\n",
      "\n",
      " [[[ 9 10]\n",
      "   [11 12]]\n",
      "\n",
      "  [[13 14]\n",
      "   [15 16]]]]\n"
     ]
    }
   ],
   "source": [
    "# with reshape  ---> using this we can define the row size and column size\n",
    "c = np.arange(1,13).reshape(4,3)\n",
    "print(c)\n",
    "print()\n",
    "\n",
    "d = np.arange(1,13).reshape(3,4)\n",
    "print(d)\n",
    "print()\n",
    "\n",
    "e = np.arange(1,13).reshape(2,6)\n",
    "print(e)\n",
    "print()\n",
    "\n",
    "f = np.arange(1,13).reshape(6,2)\n",
    "print(f)\n",
    "print()\n",
    "\n",
    "g = np.arange(1,17).reshape(2,2,2,2)\n",
    "print(g)"
   ]
  },
  {
   "cell_type": "code",
   "execution_count": 22,
   "id": "64eb68c5",
   "metadata": {},
   "outputs": [
    {
     "name": "stdout",
     "output_type": "stream",
     "text": [
      "[[1. 1. 1. 1.]\n",
      " [1. 1. 1. 1.]\n",
      " [1. 1. 1. 1.]]\n",
      "\n",
      "[[0. 0. 0. 0.]\n",
      " [0. 0. 0. 0.]\n",
      " [0. 0. 0. 0.]]\n"
     ]
    }
   ],
   "source": [
    "# np.ones and np.zeros\n",
    "a = np.ones((3,4))\n",
    "print(a)\n",
    "print()\n",
    "b = np.zeros((3,4))\n",
    "print(b)"
   ]
  },
  {
   "cell_type": "code",
   "execution_count": 23,
   "id": "ffb6a945",
   "metadata": {},
   "outputs": [
    {
     "name": "stdout",
     "output_type": "stream",
     "text": [
      "[[0.52219462 0.11015661 0.66239881 0.70456429]\n",
      " [0.00743497 0.10555935 0.79160409 0.45316885]\n",
      " [0.37921381 0.4546634  0.49553551 0.13482876]]\n"
     ]
    }
   ],
   "source": [
    "# np.random\n",
    "c = np.random.random((3,4))\n",
    "print(c)"
   ]
  },
  {
   "cell_type": "code",
   "execution_count": 26,
   "id": "9318d34d",
   "metadata": {},
   "outputs": [
    {
     "name": "stdout",
     "output_type": "stream",
     "text": [
      "[ 10.  20.  30.  40.  50.  60.  70.  80.  90. 100.]\n",
      "[ 1.          3.66666667  6.33333333  9.         11.66666667 14.33333333\n",
      " 17.        ]\n"
     ]
    }
   ],
   "source": [
    "# np.linspace   --> it gerenates linearly separable point between a given range\n",
    "d = np.linspace(10,100,10)\n",
    "print(d)\n",
    "#np.linspace(10,100,10)  here 10 is the lower range 100 is the upper range and 10 is the no. of items we want between lower and upper range\n",
    "# this function gerenates the number equally distanced between them\n",
    "e = np.linspace(1,17,7)\n",
    "print(e)"
   ]
  },
  {
   "cell_type": "code",
   "execution_count": 28,
   "id": "5c491be2",
   "metadata": {},
   "outputs": [
    {
     "name": "stdout",
     "output_type": "stream",
     "text": [
      "[[1. 0. 0.]\n",
      " [0. 1. 0.]\n",
      " [0. 0. 1.]]\n",
      "\n",
      "[[1 0 0 0]\n",
      " [0 1 0 0]\n",
      " [0 0 1 0]\n",
      " [0 0 0 1]]\n"
     ]
    }
   ],
   "source": [
    "# np.identity\n",
    "d = np.identity(3)\n",
    "print(d)\n",
    "print()\n",
    "e = np.identity(4,dtype = int)\n",
    "print(e)"
   ]
  },
  {
   "cell_type": "markdown",
   "id": "6fd2f784",
   "metadata": {},
   "source": [
    "# Array Attributes"
   ]
  },
  {
   "cell_type": "code",
   "execution_count": 32,
   "id": "1b1af84c",
   "metadata": {},
   "outputs": [
    {
     "name": "stdout",
     "output_type": "stream",
     "text": [
      "[0 1 2 3 4 5 6 7 8 9]\n",
      "\n",
      "[[ 0.  1.  2.  3.]\n",
      " [ 4.  5.  6.  7.]\n",
      " [ 8.  9. 10. 11.]]\n",
      "\n",
      "[[[0 1]\n",
      "  [2 3]]\n",
      "\n",
      " [[4 5]\n",
      "  [6 7]]]\n"
     ]
    }
   ],
   "source": [
    "a1 = np.arange(10)\n",
    "a2 = np.arange(12,dtype = float).reshape(3,4)\n",
    "a3 = np.arange(8).reshape(2,2,2)\n",
    "print(a1)\n",
    "print()\n",
    "print(a2)\n",
    "print()\n",
    "print(a3)"
   ]
  },
  {
   "cell_type": "code",
   "execution_count": 34,
   "id": "a54dcd08",
   "metadata": {},
   "outputs": [
    {
     "name": "stdout",
     "output_type": "stream",
     "text": [
      "1\n",
      "2\n",
      "3\n"
     ]
    }
   ],
   "source": [
    "#ndim  ---> it tells the dimension of the array \n",
    "print(a1.ndim)\n",
    "print(a2.ndim)\n",
    "print(a3.ndim)"
   ]
  },
  {
   "cell_type": "code",
   "execution_count": 37,
   "id": "47a42e65",
   "metadata": {},
   "outputs": [
    {
     "name": "stdout",
     "output_type": "stream",
     "text": [
      "(10,)\n",
      "(3, 4)\n",
      "(2, 2, 2) there are 2 2D array of shape (2,2)\n"
     ]
    }
   ],
   "source": [
    "# shape  ---> it tells about the shape of the array in the form of ( no_of_row , no_of_column)\n",
    "print(a1.shape)\n",
    "print(a2.shape)\n",
    "print(a3.shape,'there are 2 2D array of shape (2,2)')"
   ]
  },
  {
   "cell_type": "code",
   "execution_count": 38,
   "id": "0d84f304",
   "metadata": {},
   "outputs": [
    {
     "name": "stdout",
     "output_type": "stream",
     "text": [
      "10\n",
      "12\n",
      "8\n"
     ]
    }
   ],
   "source": [
    "# size   ---> tells about the no of elements in the array\n",
    "print(a1.size)\n",
    "print(a2.size)\n",
    "print(a3.size)"
   ]
  },
  {
   "cell_type": "code",
   "execution_count": 39,
   "id": "ec17b7a2",
   "metadata": {},
   "outputs": [
    {
     "name": "stdout",
     "output_type": "stream",
     "text": [
      "4\n",
      "8\n",
      "4\n"
     ]
    }
   ],
   "source": [
    "# itemsize  ---> tells about the size of the items that it is occupying in the memory i.e, int , float etc etc..\n",
    "print(a1.itemsize)\n",
    "print(a2.itemsize)\n",
    "print(a3.itemsize)"
   ]
  },
  {
   "cell_type": "code",
   "execution_count": 41,
   "id": "1f010e72",
   "metadata": {},
   "outputs": [
    {
     "name": "stdout",
     "output_type": "stream",
     "text": [
      "int32\n",
      "float64\n",
      "int32\n"
     ]
    }
   ],
   "source": [
    "# dtype    ---> tells about the data type of the items in the array\n",
    "print(a1.dtype)\n",
    "print(a2.dtype)\n",
    "print(a3.dtype)"
   ]
  },
  {
   "cell_type": "markdown",
   "id": "106f998d",
   "metadata": {},
   "source": [
    "# Changing Datatypes"
   ]
  },
  {
   "cell_type": "code",
   "execution_count": 47,
   "id": "74044afa",
   "metadata": {},
   "outputs": [
    {
     "name": "stdout",
     "output_type": "stream",
     "text": [
      "[[ 0.  1.  2.  3.]\n",
      " [ 4.  5.  6.  7.]\n",
      " [ 8.  9. 10. 11.]]\n",
      "\n",
      "float64\n",
      "\n"
     ]
    },
    {
     "data": {
      "text/plain": [
       "array([[ 0.,  1.,  2.,  3.],\n",
       "       [ 4.,  5.,  6.,  7.],\n",
       "       [ 8.,  9., 10., 11.]], dtype=float32)"
      ]
     },
     "execution_count": 47,
     "metadata": {},
     "output_type": "execute_result"
    }
   ],
   "source": [
    "# astype\n",
    "\n",
    "print(a2)\n",
    "print()\n",
    "print(a2.dtype)\n",
    "print()\n",
    "a2.astype(np.float32)\n",
    "\n",
    "\n",
    "\n"
   ]
  },
  {
   "cell_type": "markdown",
   "id": "5d2eb0b0",
   "metadata": {},
   "source": [
    "# Array Operations"
   ]
  },
  {
   "cell_type": "code",
   "execution_count": 54,
   "id": "82c6ca0a",
   "metadata": {},
   "outputs": [
    {
     "name": "stdout",
     "output_type": "stream",
     "text": [
      "[[ 0  1  2  3]\n",
      " [ 4  5  6  7]\n",
      " [ 8  9 10 11]]\n",
      "\n",
      "[[12 13 14 15]\n",
      " [16 17 18 19]\n",
      " [20 21 22 23]]\n"
     ]
    }
   ],
   "source": [
    "a1 = np.arange(12).reshape(3,4)\n",
    "a2 = np.arange(12,24).reshape(3,4)\n",
    "print(a1)\n",
    "print()\n",
    "print(a2)"
   ]
  },
  {
   "cell_type": "code",
   "execution_count": 52,
   "id": "53781319",
   "metadata": {},
   "outputs": [
    {
     "name": "stdout",
     "output_type": "stream",
     "text": [
      "[[ 0  2  4  6]\n",
      " [ 8 10 12 14]\n",
      " [16 18 20 22]]\n",
      "\n",
      "[[-2 -1  0  1]\n",
      " [ 2  3  4  5]\n",
      " [ 6  7  8  9]]\n",
      "\n",
      "[[ 2  3  4  5]\n",
      " [ 6  7  8  9]\n",
      " [10 11 12 13]]\n",
      "\n",
      "[[0.  0.5 1.  1.5]\n",
      " [2.  2.5 3.  3.5]\n",
      " [4.  4.5 5.  5.5]]\n",
      "\n",
      "[[  0   1   4   9]\n",
      " [ 16  25  36  49]\n",
      " [ 64  81 100 121]]\n"
     ]
    }
   ],
   "source": [
    "# SCALAR OPERATIONS\n",
    "# arithmetic\n",
    "\n",
    "print(a1*2)\n",
    "print()\n",
    "\n",
    "print(a1-2)\n",
    "print()\n",
    "\n",
    "print(a1+2)\n",
    "print()\n",
    "\n",
    "print(a1/2)\n",
    "print()\n",
    "\n",
    "print(a1**2)"
   ]
  },
  {
   "cell_type": "code",
   "execution_count": 59,
   "id": "56723bb0",
   "metadata": {},
   "outputs": [
    {
     "name": "stdout",
     "output_type": "stream",
     "text": [
      "[[12 13 14 15]\n",
      " [16 17 18 19]\n",
      " [20 21 22 23]]\n",
      "\n",
      "[[ True  True  True  True]\n",
      " [ True  True  True  True]\n",
      " [False False False False]]\n",
      "\n",
      "[[False False False False]\n",
      " [False False  True False]\n",
      " [False False False False]]\n"
     ]
    }
   ],
   "source": [
    "# relational\n",
    "print(a2)\n",
    "print()\n",
    "print(a2 < 20)\n",
    "print()\n",
    "print(a2 == 18)\n"
   ]
  },
  {
   "cell_type": "code",
   "execution_count": 60,
   "id": "70aeca27",
   "metadata": {},
   "outputs": [
    {
     "name": "stdout",
     "output_type": "stream",
     "text": [
      "[[  0  13  28  45]\n",
      " [ 64  85 108 133]\n",
      " [160 189 220 253]]\n",
      "\n",
      "[[-12 -12 -12 -12]\n",
      " [-12 -12 -12 -12]\n",
      " [-12 -12 -12 -12]]\n",
      "\n",
      "[[12 14 16 18]\n",
      " [20 22 24 26]\n",
      " [28 30 32 34]]\n",
      "\n",
      "[[0.         0.07692308 0.14285714 0.2       ]\n",
      " [0.25       0.29411765 0.33333333 0.36842105]\n",
      " [0.4        0.42857143 0.45454545 0.47826087]]\n",
      "\n",
      "[[          0           1       16384    14348907]\n",
      " [          0 -1564725563  1159987200   442181591]\n",
      " [          0  1914644777 -1304428544  -122979837]]\n"
     ]
    }
   ],
   "source": [
    "# VECTOR OPERATIONS  (shape of the two arrays should be same)\n",
    "# arithmetic\n",
    "\n",
    "print(a1*a2)\n",
    "print()\n",
    "\n",
    "print(a1-a2)\n",
    "print()\n",
    "\n",
    "print(a1+a2)\n",
    "print()\n",
    "\n",
    "print(a1/a2)\n",
    "print()\n",
    "\n",
    "print(a1**a2)\n"
   ]
  },
  {
   "cell_type": "markdown",
   "id": "3ab3ce24",
   "metadata": {},
   "source": [
    "# Array Functions"
   ]
  },
  {
   "cell_type": "code",
   "execution_count": 4,
   "id": "0b6043a5",
   "metadata": {},
   "outputs": [
    {
     "data": {
      "text/plain": [
       "array([[24.,  8., 25.],\n",
       "       [69.,  2.,  3.],\n",
       "       [41., 59., 59.]])"
      ]
     },
     "execution_count": 4,
     "metadata": {},
     "output_type": "execute_result"
    }
   ],
   "source": [
    "a1 = np.random.random((3,3))\n",
    "a1 = np.round(a1*100)\n",
    "a1\n"
   ]
  },
  {
   "cell_type": "markdown",
   "id": "29c8c477",
   "metadata": {},
   "source": [
    "### min/max/sum/prod\n",
    "- If we want to perform operation row wise or colum wise then we should use axis = 1 or axis = 0\n",
    "- for row , axis = 1\n",
    "- for column , axis = 0"
   ]
  },
  {
   "cell_type": "code",
   "execution_count": 5,
   "id": "bf3edeb9",
   "metadata": {},
   "outputs": [
    {
     "name": "stdout",
     "output_type": "stream",
     "text": [
      "69.0\n",
      "2.0\n",
      "290.0\n",
      "283615171200.0\n"
     ]
    }
   ],
   "source": [
    "print(np.max(a1))\n",
    "print(np.min(a1))\n",
    "print(np.sum(a1))\n",
    "print(np.prod(a1))"
   ]
  },
  {
   "cell_type": "code",
   "execution_count": 6,
   "id": "2c48d921",
   "metadata": {},
   "outputs": [
    {
     "name": "stdout",
     "output_type": "stream",
     "text": [
      "[25. 69. 59.]\n",
      "[69. 59. 59.]\n"
     ]
    }
   ],
   "source": [
    "print(np.max(a1 , axis = 1))      # gives the max value from each row\n",
    "print(np.max(a1 , axis = 0))      # gives the min value from each column\n"
   ]
  },
  {
   "cell_type": "markdown",
   "id": "6b006311",
   "metadata": {},
   "source": [
    "### mean/median/std/var\n",
    "- here also we can perform operation row or column wise"
   ]
  },
  {
   "cell_type": "code",
   "execution_count": 10,
   "id": "0a65ba50",
   "metadata": {},
   "outputs": [
    {
     "name": "stdout",
     "output_type": "stream",
     "text": [
      "56.77777777777778\n",
      "74.0\n",
      "1351.7283950617284\n",
      "36.765859095929315\n"
     ]
    }
   ],
   "source": [
    "print(np.mean(a1))\n",
    "print(np.median(a1))\n",
    "print(np.var(a1))\n",
    "print(np.std(a1))"
   ]
  },
  {
   "cell_type": "markdown",
   "id": "7d7eca40",
   "metadata": {},
   "source": [
    "### Trigonometry Functions"
   ]
  },
  {
   "cell_type": "code",
   "execution_count": 11,
   "id": "b5b18656",
   "metadata": {},
   "outputs": [
    {
     "name": "stdout",
     "output_type": "stream",
     "text": [
      "[[-0.77946607  0.98935825 -0.98514626]\n",
      " [-0.30481062 -0.77946607  0.89399666]\n",
      " [-0.99999021  0.96836446  0.84147098]]\n"
     ]
    }
   ],
   "source": [
    "print(np.sin(a1))"
   ]
  },
  {
   "cell_type": "markdown",
   "id": "470b88bd",
   "metadata": {},
   "source": [
    "## Dot Product"
   ]
  },
  {
   "cell_type": "code",
   "execution_count": 16,
   "id": "e8b34377",
   "metadata": {},
   "outputs": [
    {
     "name": "stdout",
     "output_type": "stream",
     "text": [
      "[[ 0  1  2  3]\n",
      " [ 4  5  6  7]\n",
      " [ 8  9 10 11]]\n",
      "\n",
      "[[12 13 14]\n",
      " [15 16 17]\n",
      " [18 19 20]\n",
      " [21 22 23]]\n",
      "\n",
      "Dot Product of a and b : \n",
      "\n",
      "[[114 120 126]\n",
      " [378 400 422]\n",
      " [642 680 718]]\n"
     ]
    }
   ],
   "source": [
    "a = np.arange(12).reshape(3,4)\n",
    "b = np.arange(12,24).reshape(4,3)\n",
    "\n",
    "print(a)\n",
    "print()\n",
    "print(b)\n",
    "print()\n",
    "print('Dot Product of a and b : ')\n",
    "print()\n",
    "print(np.dot(a,b))"
   ]
  },
  {
   "cell_type": "markdown",
   "id": "6573b42e",
   "metadata": {},
   "source": [
    "### Log and Exponents"
   ]
  },
  {
   "cell_type": "code",
   "execution_count": 17,
   "id": "ce4f64d4",
   "metadata": {},
   "outputs": [
    {
     "name": "stdout",
     "output_type": "stream",
     "text": [
      "[[4.52178858 2.07944154 4.30406509]\n",
      " [4.09434456 4.52178858 4.49980967]\n",
      " [2.39789527 4.41884061 0.        ]]\n"
     ]
    }
   ],
   "source": [
    "print(np.log(a1))"
   ]
  },
  {
   "cell_type": "code",
   "execution_count": 18,
   "id": "5d039fb1",
   "metadata": {},
   "outputs": [
    {
     "name": "stdout",
     "output_type": "stream",
     "text": [
      "[[9.01762841e+39 2.98095799e+03 1.37338298e+32]\n",
      " [1.14200739e+26 9.01762841e+39 1.22040329e+39]\n",
      " [5.98741417e+04 1.11286375e+36 2.71828183e+00]]\n"
     ]
    }
   ],
   "source": [
    "print(np.exp(a1))"
   ]
  },
  {
   "cell_type": "markdown",
   "id": "07816c46",
   "metadata": {},
   "source": [
    "### round / floor / ceil"
   ]
  },
  {
   "cell_type": "code",
   "execution_count": 3,
   "id": "71ed1d75",
   "metadata": {},
   "outputs": [
    {
     "name": "stdout",
     "output_type": "stream",
     "text": [
      "[[89.3457684   9.55115285 79.69116235]\n",
      " [64.89228331 71.85774266 76.7820056 ]\n",
      " [53.80508717 31.37028328 39.10975504]]\n",
      "\n",
      "[[89. 10. 80.]\n",
      " [65. 72. 77.]\n",
      " [54. 31. 39.]]\n",
      "\n",
      "[[89.  9. 79.]\n",
      " [64. 71. 76.]\n",
      " [53. 31. 39.]]\n",
      "\n",
      "[[90. 10. 80.]\n",
      " [65. 72. 77.]\n",
      " [54. 32. 40.]]\n"
     ]
    }
   ],
   "source": [
    "import numpy as np\n",
    "c = np.random.random((3,3))*100\n",
    "print(c)\n",
    "print()\n",
    "print(np.round(c))\n",
    "print()\n",
    "print(np.floor(c))\n",
    "print()\n",
    "print(np.ceil(c))"
   ]
  },
  {
   "cell_type": "markdown",
   "id": "7b311044",
   "metadata": {},
   "source": [
    "# Indexing and Slicing"
   ]
  },
  {
   "cell_type": "code",
   "execution_count": 74,
   "id": "c604bde7",
   "metadata": {},
   "outputs": [],
   "source": [
    "a = np.arange(10)\n",
    "b = np.arange(12).reshape(3,4)\n",
    "c = np.arange(8).reshape(2,2,2)"
   ]
  },
  {
   "cell_type": "code",
   "execution_count": 43,
   "id": "86c50189",
   "metadata": {},
   "outputs": [
    {
     "name": "stdout",
     "output_type": "stream",
     "text": [
      "[0 1 2 3 4 5 6 7 8 9]\n",
      "\n",
      "0\n",
      "9\n",
      "9\n",
      "6\n",
      "****************************** Slicing ******************************\n",
      "[0 1 2 3 4]\n",
      "[0 2 4 6]\n"
     ]
    }
   ],
   "source": [
    "print(a)\n",
    "print()\n",
    "print(a[0])\n",
    "print(a[9])\n",
    "print(a[-1])\n",
    "print(a[-4])\n",
    "print('*'*30,\"Slicing\",'*'*30)\n",
    "print(a[0:5])\n",
    "print(a[0:8:2])"
   ]
  },
  {
   "cell_type": "code",
   "execution_count": 63,
   "id": "121be3b1",
   "metadata": {},
   "outputs": [
    {
     "name": "stdout",
     "output_type": "stream",
     "text": [
      "[[ 0  1  2  3]\n",
      " [ 4  5  6  7]\n",
      " [ 8  9 10 11]]\n",
      "\n",
      "6\n",
      "11\n",
      "****************************** 2D Slicing ******************************\n",
      "[0 1 2 3]\n",
      "\n",
      "[1 5 9]\n",
      "\n",
      "[[ 5  6]\n",
      " [ 9 10]]\n",
      "\n",
      "[[ 0  3]\n",
      " [ 8 11]]\n",
      "\n",
      "[[ 1  3]\n",
      " [ 9 11]]\n",
      "\n",
      "[4 7]\n",
      "\n",
      "[[ 0  3]\n",
      " [ 8 11]]\n",
      "\n",
      "[[1 2 3]\n",
      " [5 6 7]]\n",
      "\n",
      "[[1 2 3]\n",
      " [5 6 7]]\n"
     ]
    }
   ],
   "source": [
    "print(b)\n",
    "print()\n",
    "print(b[1][2])   # we can write like this also ----> b[1,2]\n",
    "print(b[2,3])\n",
    "print('*'*30,\"2D Slicing\",'*'*30)\n",
    "print(b[0,:])\n",
    "print()\n",
    "print(b[:,1])\n",
    "print()\n",
    "print(b[1:,1:3])\n",
    "print()\n",
    "print(b[::2,::3])\n",
    "print()\n",
    "print(b[::2,1::2])\n",
    "print()\n",
    "print(b[1,::3])\n",
    "print()\n",
    "print(b[::2,::3])\n",
    "print()\n",
    "print(b[-3:-1,1:])\n",
    "print()\n",
    "print(b[0:2,1:])\n",
    "\n"
   ]
  },
  {
   "cell_type": "code",
   "execution_count": 40,
   "id": "a9147b2b",
   "metadata": {},
   "outputs": [
    {
     "name": "stdout",
     "output_type": "stream",
     "text": [
      "[[[0 1]\n",
      "  [2 3]]\n",
      "\n",
      " [[4 5]\n",
      "  [6 7]]]\n",
      "\n",
      "5\n",
      "0\n",
      "6\n"
     ]
    }
   ],
   "source": [
    "print(c)\n",
    "print()\n",
    "print(c[1,0,1])\n",
    "print(c[0,0,0])\n",
    "print(c[1,1,0])\n",
    "\n",
    "\n"
   ]
  },
  {
   "cell_type": "code",
   "execution_count": 85,
   "id": "cc496bd0",
   "metadata": {},
   "outputs": [
    {
     "data": {
      "text/plain": [
       "array([[[ 0,  1,  2],\n",
       "        [ 3,  4,  5],\n",
       "        [ 6,  7,  8]],\n",
       "\n",
       "       [[ 9, 10, 11],\n",
       "        [12, 13, 14],\n",
       "        [15, 16, 17]],\n",
       "\n",
       "       [[18, 19, 20],\n",
       "        [21, 22, 23],\n",
       "        [24, 25, 26]]])"
      ]
     },
     "execution_count": 85,
     "metadata": {},
     "output_type": "execute_result"
    }
   ],
   "source": [
    "c1 = np.arange(27).reshape(3,3,3)\n",
    "c1"
   ]
  },
  {
   "cell_type": "code",
   "execution_count": 71,
   "id": "4b589991",
   "metadata": {},
   "outputs": [
    {
     "name": "stdout",
     "output_type": "stream",
     "text": [
      "[[ 9 10 11]\n",
      " [12 13 14]\n",
      " [15 16 17]]\n",
      "\n",
      "**********************************************************************\n",
      "\n",
      "[[[ 0  1  2]\n",
      "  [ 3  4  5]\n",
      "  [ 6  7  8]]\n",
      "\n",
      " [[18 19 20]\n",
      "  [21 22 23]\n",
      "  [24 25 26]]]\n",
      "\n",
      "**********************************************************************\n",
      "\n",
      "[3 4 5]\n",
      "\n",
      "**********************************************************************\n",
      "\n",
      "[10 13 16]\n",
      "\n",
      "**********************************************************************\n",
      "\n",
      "[[22 23]\n",
      " [25 26]]\n",
      "\n",
      "**********************************************************************\n",
      "\n",
      "[[ 0  2]\n",
      " [18 20]]\n"
     ]
    }
   ],
   "source": [
    "print(c1[1])\n",
    "print()\n",
    "print('*'*70)\n",
    "print()\n",
    "print(c1[::2])\n",
    "print()\n",
    "print('*'*70)\n",
    "print()\n",
    "print(c1[0][1,:])   # or we cam write c1[0,1,:] \n",
    "print()\n",
    "print('*'*70)\n",
    "print()\n",
    "print(c1[1,:,1])\n",
    "print()\n",
    "print('*'*70)\n",
    "print()\n",
    "print(c1[2,1:,1:])\n",
    "print()\n",
    "print('*'*70)\n",
    "print()\n",
    "print(c1[::2,0,::2])"
   ]
  },
  {
   "cell_type": "markdown",
   "id": "10534834",
   "metadata": {},
   "source": [
    "# Iterating"
   ]
  },
  {
   "cell_type": "code",
   "execution_count": 77,
   "id": "0e36f847",
   "metadata": {},
   "outputs": [
    {
     "name": "stdout",
     "output_type": "stream",
     "text": [
      "[0 1 2 3 4 5 6 7 8 9]\n",
      "****************************************************************************************************\n",
      "[[ 0  1  2  3]\n",
      " [ 4  5  6  7]\n",
      " [ 8  9 10 11]]\n",
      "****************************************************************************************************\n",
      "[[[0 1]\n",
      "  [2 3]]\n",
      "\n",
      " [[4 5]\n",
      "  [6 7]]]\n"
     ]
    }
   ],
   "source": [
    "print(a)\n",
    "print('*'*100)\n",
    "print(b)\n",
    "print('*'*100)\n",
    "print(c)"
   ]
  },
  {
   "cell_type": "code",
   "execution_count": 82,
   "id": "ab63a8e4",
   "metadata": {},
   "outputs": [
    {
     "name": "stdout",
     "output_type": "stream",
     "text": [
      "[0 1 2 3 4 5 6 7 8 9]\n",
      "****************************************************************************************************\n",
      "0\n",
      "1\n",
      "2\n",
      "3\n",
      "4\n",
      "5\n",
      "6\n",
      "7\n",
      "8\n",
      "9\n"
     ]
    }
   ],
   "source": [
    "# 1D\n",
    "print(a)\n",
    "print('*'*100)\n",
    "\n",
    "for i in a:\n",
    "    print(i)"
   ]
  },
  {
   "cell_type": "code",
   "execution_count": 83,
   "id": "cb8c622f",
   "metadata": {},
   "outputs": [
    {
     "name": "stdout",
     "output_type": "stream",
     "text": [
      "[[ 0  1  2  3]\n",
      " [ 4  5  6  7]\n",
      " [ 8  9 10 11]]\n",
      "****************************************************************************************************\n",
      "[0 1 2 3]\n",
      "[4 5 6 7]\n",
      "[ 8  9 10 11]\n"
     ]
    }
   ],
   "source": [
    "# 2d\n",
    "print(b)\n",
    "print('*'*100)\n",
    "\n",
    "for i in b:\n",
    "    print(i)"
   ]
  },
  {
   "cell_type": "code",
   "execution_count": 86,
   "id": "9699e13f",
   "metadata": {},
   "outputs": [
    {
     "name": "stdout",
     "output_type": "stream",
     "text": [
      "[[[ 0  1  2]\n",
      "  [ 3  4  5]\n",
      "  [ 6  7  8]]\n",
      "\n",
      " [[ 9 10 11]\n",
      "  [12 13 14]\n",
      "  [15 16 17]]\n",
      "\n",
      " [[18 19 20]\n",
      "  [21 22 23]\n",
      "  [24 25 26]]]\n",
      "****************************************************************************************************\n",
      "[[0 1 2]\n",
      " [3 4 5]\n",
      " [6 7 8]]\n",
      "[[ 9 10 11]\n",
      " [12 13 14]\n",
      " [15 16 17]]\n",
      "[[18 19 20]\n",
      " [21 22 23]\n",
      " [24 25 26]]\n"
     ]
    }
   ],
   "source": [
    "# 3D\n",
    "print(c1)\n",
    "print('*'*100)\n",
    "for i in c1: \n",
    "    print(i)"
   ]
  },
  {
   "cell_type": "code",
   "execution_count": 89,
   "id": "a5d5dae7",
   "metadata": {},
   "outputs": [
    {
     "name": "stdout",
     "output_type": "stream",
     "text": [
      "0\n",
      "1\n",
      "2\n",
      "3\n",
      "4\n",
      "5\n",
      "6\n",
      "7\n",
      "8\n",
      "9\n",
      "10\n",
      "11\n",
      "12\n",
      "13\n",
      "14\n",
      "15\n",
      "16\n",
      "17\n",
      "18\n",
      "19\n",
      "20\n",
      "21\n",
      "22\n",
      "23\n",
      "24\n",
      "25\n",
      "26\n"
     ]
    }
   ],
   "source": [
    "# looping on the individual element in the 3D array\n",
    "for i in np.nditer(c1):\n",
    "    print(i)"
   ]
  },
  {
   "cell_type": "markdown",
   "id": "286de792",
   "metadata": {},
   "source": [
    "# Reshaping\n",
    "- reshape\n",
    "- transpose\n",
    "- ravel"
   ]
  },
  {
   "cell_type": "code",
   "execution_count": 93,
   "id": "03d7c77c",
   "metadata": {},
   "outputs": [
    {
     "name": "stdout",
     "output_type": "stream",
     "text": [
      "[[ 0  1  2  3]\n",
      " [ 4  5  6  7]\n",
      " [ 8  9 10 11]]\n",
      "\n",
      "[[ 0  4  8]\n",
      " [ 1  5  9]\n",
      " [ 2  6 10]\n",
      " [ 3  7 11]]\n",
      "\n",
      "[[ 0  4  8]\n",
      " [ 1  5  9]\n",
      " [ 2  6 10]\n",
      " [ 3  7 11]]\n"
     ]
    }
   ],
   "source": [
    "# Transpose\n",
    "\n",
    "print(b)\n",
    "print()\n",
    "print(np.transpose(b))\n",
    "print()\n",
    "print(b.T)"
   ]
  },
  {
   "cell_type": "code",
   "execution_count": 96,
   "id": "3b3f2def",
   "metadata": {},
   "outputs": [
    {
     "name": "stdout",
     "output_type": "stream",
     "text": [
      "[[[ 0  1  2]\n",
      "  [ 3  4  5]\n",
      "  [ 6  7  8]]\n",
      "\n",
      " [[ 9 10 11]\n",
      "  [12 13 14]\n",
      "  [15 16 17]]\n",
      "\n",
      " [[18 19 20]\n",
      "  [21 22 23]\n",
      "  [24 25 26]]]\n",
      "\n",
      "[ 0  1  2  3  4  5  6  7  8  9 10 11 12 13 14 15 16 17 18 19 20 21 22 23\n",
      " 24 25 26]\n"
     ]
    }
   ],
   "source": [
    "#Ravel  --> kitne bhi dimension ke array ko 1D array mai change kar deta hain ye\n",
    "\n",
    "print(c1)\n",
    "print()\n",
    "print(c1.ravel())\n",
    "\n",
    "\n"
   ]
  },
  {
   "cell_type": "markdown",
   "id": "5fdf1257",
   "metadata": {},
   "source": [
    "# Stacking\n",
    "- shape should be same"
   ]
  },
  {
   "cell_type": "code",
   "execution_count": 104,
   "id": "a1cb7f19",
   "metadata": {},
   "outputs": [
    {
     "name": "stdout",
     "output_type": "stream",
     "text": [
      "[[ 0  1  2  3]\n",
      " [ 4  5  6  7]\n",
      " [ 8  9 10 11]]\n",
      "****************************************************************************************************\n",
      "[[12 13 14 15]\n",
      " [16 17 18 19]\n",
      " [20 21 22 23]]\n",
      "****************************************************************************************************\n",
      "[[ 0  1  2  3 12 13 14 15]\n",
      " [ 4  5  6  7 16 17 18 19]\n",
      " [ 8  9 10 11 20 21 22 23]]\n",
      "****************************************************************************************************\n",
      "[[ 0  1  2  3 12 13 14 15  0  1  2  3 12 13 14 15]\n",
      " [ 4  5  6  7 16 17 18 19  4  5  6  7 16 17 18 19]\n",
      " [ 8  9 10 11 20 21 22 23  8  9 10 11 20 21 22 23]]\n"
     ]
    }
   ],
   "source": [
    "# horizontal stacking\n",
    "\n",
    "x = np.arange(12).reshape(3,4)\n",
    "y = np.arange(12,24).reshape(3,4)\n",
    "print(x)\n",
    "print('*'*100)\n",
    "print(y)\n",
    "print('*'*100)\n",
    "print(np.hstack((x,y)))\n",
    "print('*'*100)\n",
    "print(np.hstack((x,y,x,y)))"
   ]
  },
  {
   "cell_type": "code",
   "execution_count": 103,
   "id": "278d532c",
   "metadata": {},
   "outputs": [
    {
     "name": "stdout",
     "output_type": "stream",
     "text": [
      "[[ 0  1  2  3]\n",
      " [ 4  5  6  7]\n",
      " [ 8  9 10 11]\n",
      " [12 13 14 15]\n",
      " [16 17 18 19]\n",
      " [20 21 22 23]]\n"
     ]
    }
   ],
   "source": [
    "# vertical stacking\n",
    "print(np.vstack((x,y)))"
   ]
  },
  {
   "cell_type": "markdown",
   "id": "9554e95d",
   "metadata": {},
   "source": [
    "# Splitting"
   ]
  },
  {
   "cell_type": "code",
   "execution_count": 105,
   "id": "0638af84",
   "metadata": {},
   "outputs": [
    {
     "name": "stdout",
     "output_type": "stream",
     "text": [
      "[array([[0, 1],\n",
      "       [4, 5],\n",
      "       [8, 9]]), array([[ 2,  3],\n",
      "       [ 6,  7],\n",
      "       [10, 11]])]\n"
     ]
    }
   ],
   "source": [
    "# horizontal splitting\n",
    "print(np.hsplit(x,2))"
   ]
  },
  {
   "cell_type": "code",
   "execution_count": 106,
   "id": "bb5744e5",
   "metadata": {},
   "outputs": [
    {
     "name": "stdout",
     "output_type": "stream",
     "text": [
      "[array([[0, 1, 2, 3]]), array([[4, 5, 6, 7]]), array([[ 8,  9, 10, 11]])]\n"
     ]
    }
   ],
   "source": [
    "# vertical splitting\n",
    "print(np.vsplit(x,3))"
   ]
  },
  {
   "cell_type": "code",
   "execution_count": null,
   "id": "2b327f40",
   "metadata": {},
   "outputs": [],
   "source": []
  }
 ],
 "metadata": {
  "kernelspec": {
   "display_name": "Python 3 (ipykernel)",
   "language": "python",
   "name": "python3"
  },
  "language_info": {
   "codemirror_mode": {
    "name": "ipython",
    "version": 3
   },
   "file_extension": ".py",
   "mimetype": "text/x-python",
   "name": "python",
   "nbconvert_exporter": "python",
   "pygments_lexer": "ipython3",
   "version": "3.9.13"
  }
 },
 "nbformat": 4,
 "nbformat_minor": 5
}
